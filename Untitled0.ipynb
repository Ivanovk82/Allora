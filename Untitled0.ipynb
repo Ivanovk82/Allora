{
  "nbformat": 4,
  "nbformat_minor": 0,
  "metadata": {
    "colab": {
      "provenance": [],
      "authorship_tag": "ABX9TyNB0YfIxye+Oqyr1PqhYDI7",
      "include_colab_link": true
    },
    "kernelspec": {
      "name": "python3",
      "display_name": "Python 3"
    },
    "language_info": {
      "name": "python"
    }
  },
  "cells": [
    {
      "cell_type": "markdown",
      "metadata": {
        "id": "view-in-github",
        "colab_type": "text"
      },
      "source": [
        "<a href=\"https://colab.research.google.com/github/Ivanovk82/Allora/blob/main/Untitled0.ipynb\" target=\"_parent\"><img src=\"https://colab.research.google.com/assets/colab-badge.svg\" alt=\"Open In Colab\"/></a>"
      ]
    },
    {
      "cell_type": "code",
      "execution_count": null,
      "metadata": {
        "colab": {
          "base_uri": "https://localhost:8080/"
        },
        "id": "eleOdyNkeYNq",
        "outputId": "1afeda60-0b52-45fd-dd9b-8740058c5a0e"
      },
      "outputs": [
        {
          "output_type": "stream",
          "name": "stdout",
          "text": [
            "Hola mundo\n"
          ]
        }
      ],
      "source": [
        "print(\"Hola mundo\")"
      ]
    },
    {
      "cell_type": "code",
      "source": [
        "try:\n",
        "  a=int(input(\"Ingrese un numero: \"))\n",
        "  b=int(input(\"Ingrese otro numero: \"))\n",
        "  c=a/b\n",
        "  print(\"El resultado de la suma es: \", c)\n",
        "except ZeroDivisionError:\n",
        "  print(type(e))\n",
        "except ValueError as e:\n",
        "  print(f\"Error: {e}\")"
      ],
      "metadata": {
        "colab": {
          "base_uri": "https://localhost:8080/"
        },
        "id": "rkqY2z3tr0HV",
        "outputId": "9c0c399d-a8a1-4184-c5f2-9ca428c179d2"
      },
      "execution_count": 6,
      "outputs": [
        {
          "output_type": "stream",
          "name": "stdout",
          "text": [
            "Ingrese un numero: 4\n",
            "Ingrese otro numero: 5\n",
            "El resultado de la suma es:  0.8\n"
          ]
        }
      ]
    },
    {
      "cell_type": "code",
      "source": [
        "try:\n",
        "  edades = {'Júlia': 16, 'Carol': 23, 'Alberto': 19, 'Roberta': 17}\n",
        "  nombre=input(\"Digitar el nombre del estudiante: \")\n",
        "  resultado=edades[nombre]\n",
        "except KeyError:\n",
        "  print(\"Estudiante no matriculado en el grupo\")\n",
        "else:\n",
        "  print(\"La edad del estudiante es: \", resultado)\n",
        "finally:\n",
        "  print(\"Programa terminado\")\n",
        "\n"
      ],
      "metadata": {
        "colab": {
          "base_uri": "https://localhost:8080/"
        },
        "id": "UDWJoCAztu82",
        "outputId": "59bdff95-5888-4490-e152-94d32ed63180"
      },
      "execution_count": 8,
      "outputs": [
        {
          "output_type": "stream",
          "name": "stdout",
          "text": [
            "Digitar el nombre del estudiante: Jayce\n",
            "Estudiante no matriculado en el grupo\n",
            "Programa terminado\n"
          ]
        }
      ]
    }
  ]
}