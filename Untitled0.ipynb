{
  "nbformat": 4,
  "nbformat_minor": 0,
  "metadata": {
    "colab": {
      "provenance": [],
      "authorship_tag": "ABX9TyMeGJvXCqq32IbCTCKi0HJ5",
      "include_colab_link": true
    },
    "kernelspec": {
      "name": "python3",
      "display_name": "Python 3"
    },
    "language_info": {
      "name": "python"
    }
  },
  "cells": [
    {
      "cell_type": "markdown",
      "metadata": {
        "id": "view-in-github",
        "colab_type": "text"
      },
      "source": [
        "<a href=\"https://colab.research.google.com/github/Ivanovk82/Allora/blob/main/Untitled0.ipynb\" target=\"_parent\"><img src=\"https://colab.research.google.com/assets/colab-badge.svg\" alt=\"Open In Colab\"/></a>"
      ]
    },
    {
      "cell_type": "code",
      "execution_count": null,
      "metadata": {
        "colab": {
          "base_uri": "https://localhost:8080/"
        },
        "id": "eleOdyNkeYNq",
        "outputId": "1afeda60-0b52-45fd-dd9b-8740058c5a0e"
      },
      "outputs": [
        {
          "output_type": "stream",
          "name": "stdout",
          "text": [
            "Hola mundo\n"
          ]
        }
      ],
      "source": [
        "print(\"Hola mundo\")"
      ]
    },
    {
      "cell_type": "code",
      "source": [
        "# Has sido contratado como científico(a) de datos de una asociación de skate. Para analizar las notas recibidas por los skaters en algunas competiciones a lo largo del año, necesitas crear un código que calcule la puntuación de los atletas. Para ello, tu código debe recibir 5 notas ingresadas por los jueces.\n",
        "notas = [float(input(f\"Ingrese la nota {i + 1}: \")) for i in range(5)]\n",
        "notas.sort()\n",
        "media=sum(notas[1:4])/3\n",
        "print(f\"Nota de la maniobra: {media}\")\n",
        "\n"
      ],
      "metadata": {
        "colab": {
          "base_uri": "https://localhost:8080/"
        },
        "id": "-k17GWXGrCdY",
        "outputId": "1b8f1e6f-5f8e-4da0-a4e2-71a36733da80"
      },
      "execution_count": 1,
      "outputs": [
        {
          "output_type": "stream",
          "name": "stdout",
          "text": [
            "Ingrese la nota 1: 5\n",
            "Ingrese la nota 2: 4\n",
            "Ingrese la nota 3: 6\n",
            "Ingrese la nota 4: 7\n",
            "Ingrese la nota 5: 5\n",
            "Nota de la maniobra: 5.333333333333333\n"
          ]
        }
      ]
    },
    {
      "cell_type": "code",
      "source": [
        "#Para cumplir con una demanda de una institución educativa para el análisis del rendimiento de sus estudiantes, necesitas crear una función que reciba una lista de 4 notas y devuelva:\n",
        "def notas(lista):\n",
        "  max_nota=max(lista)\n",
        "  min_nota=min(lista)\n",
        "  media_nota=sum(lista)/len(lista)\n",
        "  situacion = \"Aprobado\" if media_nota >= 6 else \"Reprobado\" # Changed 'media' to 'media_nota' to use the calculated average\n",
        "  #The variable 'media' was not defined inside the function 'notas' and was instead a global variable from the previous cell.\n",
        "  return max_nota, min_nota, media_nota, situacion\n",
        "\n",
        "\n",
        "lista=[float(input(f\"Ingrese la nota {i + 1}: \")) for i in range(4)]\n",
        "#max_nota, min_nota, media_nota, situacion = notas(lista) # Call the function and assign the returned values to variables\n",
        "#print(f\"La nota máxima es: {max_nota}\")\n",
        "#print(f\"La nota mínima es: {min_nota}\")\n",
        "#print(f\"La nota media es: {media_nota}\")\n",
        "#print(f\"La situación del estudiante es: {situacion}\")\n",
        "resultado=notas(lista)\n",
        "print(type(resultado))\n",
        "print(f\"La nota máxima es: {resultado[0]}\\nLa nota minima es: {resultado[1]}\\nLa situación es: {resultado[3]}\")\n",
        "#, la nota minima es: {resultado[1]}, la nota media es: {resultado[2]}, la situación es: {resultado[3]}\")\n",
        "\n",
        "\n",
        "\n",
        "\n",
        "\n",
        "\n",
        "\n",
        "\n",
        "\n",
        ""
      ],
      "metadata": {
        "colab": {
          "base_uri": "https://localhost:8080/"
        },
        "id": "RRYkgU3_uO4R",
        "outputId": "89d023a7-2306-49b8-88eb-8a0b3c1a58b8"
      },
      "execution_count": 15,
      "outputs": [
        {
          "output_type": "stream",
          "name": "stdout",
          "text": [
            "Ingrese la nota 1: 4\n",
            "Ingrese la nota 2: 5\n",
            "Ingrese la nota 3: 7\n",
            "Ingrese la nota 4: 6\n",
            "<class 'tuple'>\n",
            "La nota máxima es: 7.0\n",
            "La nota minima es: 4.0\n",
            "La situación es: Reprobado\n"
          ]
        }
      ]
    },
    {
      "cell_type": "code",
      "source": [
        "nombres = [\"juan\", \"MaRia\", \"JOSÉ\"]\n",
        "apellidos = [\"SILVA\", \"sosa\", \"Tavares\"]\n",
        "normalizado=map(lambda x,y: x.capitalize()+\" \"+y.capitalize(), nombres, apellidos )\n",
        "print (list(normalizado))\n",
        "\n",
        "# Normalizar nombres y apellidos y crear una nueva lista con los nombres completos\n",
        "# Puedes apoyarte en la función map()"
      ],
      "metadata": {
        "colab": {
          "base_uri": "https://localhost:8080/"
        },
        "id": "K1Rmql3P-2TS",
        "outputId": "dc0e2891-5972-4d98-ccc3-97c2bf04fa7b"
      },
      "execution_count": 23,
      "outputs": [
        {
          "output_type": "stream",
          "name": "stdout",
          "text": [
            "['Juan Silva', 'Maria Sosa', 'José Tavares']\n"
          ]
        }
      ]
    },
    {
      "cell_type": "markdown",
      "source": [],
      "metadata": {
        "id": "6DtUxm8vBQlL"
      }
    }
  ]
}