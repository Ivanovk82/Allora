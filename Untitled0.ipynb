{
  "nbformat": 4,
  "nbformat_minor": 0,
  "metadata": {
    "colab": {
      "provenance": [],
      "authorship_tag": "ABX9TyMCWSN59kiibHDAi7AeWe0N",
      "include_colab_link": true
    },
    "kernelspec": {
      "name": "python3",
      "display_name": "Python 3"
    },
    "language_info": {
      "name": "python"
    }
  },
  "cells": [
    {
      "cell_type": "markdown",
      "metadata": {
        "id": "view-in-github",
        "colab_type": "text"
      },
      "source": [
        "<a href=\"https://colab.research.google.com/github/Ivanovk82/Allora/blob/main/Untitled0.ipynb\" target=\"_parent\"><img src=\"https://colab.research.google.com/assets/colab-badge.svg\" alt=\"Open In Colab\"/></a>"
      ]
    },
    {
      "cell_type": "code",
      "execution_count": null,
      "metadata": {
        "colab": {
          "base_uri": "https://localhost:8080/"
        },
        "id": "eleOdyNkeYNq",
        "outputId": "1afeda60-0b52-45fd-dd9b-8740058c5a0e"
      },
      "outputs": [
        {
          "output_type": "stream",
          "name": "stdout",
          "text": [
            "Hola mundo\n"
          ]
        }
      ],
      "source": [
        "print(\"Hola mundo\")"
      ]
    },
    {
      "cell_type": "code",
      "source": [
        "# Has sido contratado como científico(a) de datos de una asociación de skate. Para analizar las notas recibidas por los skaters en algunas competiciones a lo largo del año, necesitas crear un código que calcule la puntuación de los atletas. Para ello, tu código debe recibir 5 notas ingresadas por los jueces.\n",
        "notas = [float(input(f\"Ingrese la nota {i + 1}: \")) for i in range(5)]\n",
        "notas.sort()\n",
        "media=sum(notas[1:4])/3\n",
        "print(f\"Nota de la maniobra: {media}\")\n",
        "\n"
      ],
      "metadata": {
        "colab": {
          "base_uri": "https://localhost:8080/"
        },
        "id": "-k17GWXGrCdY",
        "outputId": "1b8f1e6f-5f8e-4da0-a4e2-71a36733da80"
      },
      "execution_count": 1,
      "outputs": [
        {
          "output_type": "stream",
          "name": "stdout",
          "text": [
            "Ingrese la nota 1: 5\n",
            "Ingrese la nota 2: 4\n",
            "Ingrese la nota 3: 6\n",
            "Ingrese la nota 4: 7\n",
            "Ingrese la nota 5: 5\n",
            "Nota de la maniobra: 5.333333333333333\n"
          ]
        }
      ]
    },
    {
      "cell_type": "code",
      "source": [
        "#Para cumplir con una demanda de una institución educativa para el análisis del rendimiento de sus estudiantes, necesitas crear una función que reciba una lista de 4 notas y devuelva:\n",
        "def notas(lista):\n",
        "  max_nota=max(lista)\n",
        "  min_nota=min(lista)\n",
        "  media_nota=sum(lista)/len(lista)\n",
        "  situacion = \"Aprobado\" if media_nota >= 6 else \"Reprobado\" # Changed 'media' to 'media_nota' to use the calculated average\n",
        "  #The variable 'media' was not defined inside the function 'notas' and was instead a global variable from the previous cell.\n",
        "  return max_nota, min_nota, media_nota, situacion\n",
        "\n",
        "\n",
        "lista=[float(input(f\"Ingrese la nota {i + 1}: \")) for i in range(4)]\n",
        "#max_nota, min_nota, media_nota, situacion = notas(lista) # Call the function and assign the returned values to variables\n",
        "#print(f\"La nota máxima es: {max_nota}\")\n",
        "#print(f\"La nota mínima es: {min_nota}\")\n",
        "#print(f\"La nota media es: {media_nota}\")\n",
        "#print(f\"La situación del estudiante es: {situacion}\")\n",
        "resultado=notas(lista)\n",
        "print(type(resultado))\n",
        "print(f\"La nota máxima es: {resultado[0]}\\nLa nota minima es: {resultado[1]}\\nLa situación es: {resultado[3]}\")\n",
        "#, la nota minima es: {resultado[1]}, la nota media es: {resultado[2]}, la situación es: {resultado[3]}\")\n",
        "\n",
        "\n",
        "\n",
        "\n",
        "\n",
        "\n",
        "\n",
        "\n",
        "\n",
        ""
      ],
      "metadata": {
        "colab": {
          "base_uri": "https://localhost:8080/"
        },
        "id": "RRYkgU3_uO4R",
        "outputId": "89d023a7-2306-49b8-88eb-8a0b3c1a58b8"
      },
      "execution_count": 15,
      "outputs": [
        {
          "output_type": "stream",
          "name": "stdout",
          "text": [
            "Ingrese la nota 1: 4\n",
            "Ingrese la nota 2: 5\n",
            "Ingrese la nota 3: 7\n",
            "Ingrese la nota 4: 6\n",
            "<class 'tuple'>\n",
            "La nota máxima es: 7.0\n",
            "La nota minima es: 4.0\n",
            "La situación es: Reprobado\n"
          ]
        }
      ]
    },
    {
      "cell_type": "code",
      "source": [
        "nombres = [\"juan\", \"MaRia\", \"JOSÉ\"]\n",
        "apellidos = [\"SILVA\", \"sosa\", \"Tavares\"]\n",
        "normalizado=map(lambda x,y: x.capitalize()+\" \"+y.capitalize(), nombres, apellidos )\n",
        "print (list(normalizado))\n",
        "\n",
        "# Normalizar nombres y apellidos y crear una nueva lista con los nombres completos\n",
        "# Puedes apoyarte en la función map()"
      ],
      "metadata": {
        "colab": {
          "base_uri": "https://localhost:8080/"
        },
        "id": "K1Rmql3P-2TS",
        "outputId": "dc0e2891-5972-4d98-ccc3-97c2bf04fa7b"
      },
      "execution_count": 23,
      "outputs": [
        {
          "output_type": "stream",
          "name": "stdout",
          "text": [
            "['Juan Silva', 'Maria Sosa', 'José Tavares']\n"
          ]
        }
      ]
    },
    {
      "cell_type": "markdown",
      "source": [],
      "metadata": {
        "id": "6DtUxm8vBQlL"
      }
    },
    {
      "cell_type": "code",
      "source": [
        "#Escribe una función llamada calcula_puntos() que recibe como parámetros dos listas de números\n",
        "# enteros, representando los goles marcados y recibidos por el equipo en cada partido del\n",
        "#campeonato. La función debe devolver la puntuación del equipo y el rendimiento en porcentaje,\n",
        "#teniendo en cuenta que la victoria vale 3 puntos, el empate 1 punto y la derrota 0 puntos.\n",
        "\n",
        "def calcula_puntos(goles_marcados, goles_recibidos):\n",
        "  resultados=map(lambda x,y: 3 if x>y else 1 if x==y else 0, goles_marcados, goles_recibidos)\n",
        "  #rendimiento=sum(resultados)/len(goles_marcados)\n",
        "  #puntuacion=sum(resultados)\n",
        "  resultados_lista = list(resultados) #Toca guardarlo antes de verificar otras acciones WTF?\n",
        "  rendimiento=sum(resultados_lista)/len(goles_marcados)\n",
        "  puntuacion=sum(resultados_lista)\n",
        "  print(f\"Resultados de la lista: {resultados_lista}\")\n",
        "  print(f\"Rendimiento: {rendimiento}\")\n",
        "  print(f\"Puntuación: {puntuacion}\")\n",
        "goles_marcados = [3, 2, 1, 0]\n",
        "goles_recibidos = [1, 2, 1, 3]\n",
        "calcula_puntos(goles_marcados, goles_recibidos)\n",
        "\n",
        "\n",
        "\n"
      ],
      "metadata": {
        "colab": {
          "base_uri": "https://localhost:8080/"
        },
        "id": "PnbikEHzDOkU",
        "outputId": "49c79ec3-db44-4a2e-ca64-4b5c86e0fd26"
      },
      "execution_count": 64,
      "outputs": [
        {
          "output_type": "stream",
          "name": "stdout",
          "text": [
            "Resultados de la lista: [3, 1, 1, 0]\n",
            "Rendimiento: 1.25\n",
            "Puntuación: 5\n"
          ]
        }
      ]
    },
    {
      "cell_type": "code",
      "source": [
        "def calcula_puntos(goles_marcados, goles_recibidos):\n",
        "    # Usar map para calcular los puntos para cada partido\n",
        "    resultados = map(lambda x, y: 3 if x > y else 1 if x == y else 0, goles_marcados, goles_recibidos)\n",
        "\n",
        "    # Convertir el map a lista para poder usarlo varias veces\n",
        "    resultados_lista = list(resultados)\n",
        "\n",
        "    # Calcular el rendimiento (puntuación total / cantidad de partidos)\n",
        "    puntuacion_total = sum(resultados_lista)\n",
        "    rendimiento_promedio = puntuacion_total / len(goles_marcados) if goles_marcados else 0\n",
        "\n",
        "    # Imprimir los resultados\n",
        "    print(\"Puntos por partido:\", resultados_lista)\n",
        "    print(f\"Puntuación total: {puntuacion_total}\")\n",
        "    print(f\"Rendimiento promedio: {rendimiento_promedio:.2f}\")\n",
        "\n",
        "# Ejemplo de uso\n",
        "goles_marcados = [3, 2, 1, 0]\n",
        "goles_recibidos = [1, 2, 1, 3]\n",
        "calcula_puntos(goles_marcados, goles_recibidos)\n"
      ],
      "metadata": {
        "colab": {
          "base_uri": "https://localhost:8080/"
        },
        "id": "wfaMhDiVKOf9",
        "outputId": "50df098e-d78a-4960-8fc9-e5d3469c28c2"
      },
      "execution_count": 62,
      "outputs": [
        {
          "output_type": "stream",
          "name": "stdout",
          "text": [
            "Puntos por partido: [3, 1, 1, 0]\n",
            "Puntuación total: 5\n",
            "Rendimiento promedio: 1.25\n"
          ]
        }
      ]
    },
    {
      "cell_type": "code",
      "source": [
        "goles_marcados = [3, 2, 1, 0]\n",
        "goles_recibidos = [1, 2, 1, 3]\n",
        "calcula_puntos(goles_marcados, goles_recibidos)"
      ],
      "metadata": {
        "colab": {
          "base_uri": "https://localhost:8080/"
        },
        "id": "SwioTNqxJPoO",
        "outputId": "4b91a305-eae6-43c5-fad2-f74e8d5a88f0"
      },
      "execution_count": 59,
      "outputs": [
        {
          "output_type": "stream",
          "name": "stdout",
          "text": [
            "[]\n"
          ]
        }
      ]
    }
  ]
}